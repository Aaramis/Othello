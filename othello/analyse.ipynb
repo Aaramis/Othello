{
 "cells": [
  {
   "cell_type": "markdown",
   "metadata": {},
   "source": [
    "# IA SOLVE : Othello\n",
    "\n",
    "## Player performance analysis\n",
    "\n",
    "The data was generated from the results of the simulations on our program. The simulations were performed by varying the parameters, the players (MinMax, Alpha-Beta, MCTS, Random ...) and the starting color. More information will be given in the sub-sections. To start using this notebook, you must have the file \"data_othello.cvs\". If it is not too heavy it will be deposited on git (you will maybe need to unzip it)."
   ]
  },
  {
   "cell_type": "code",
   "execution_count": 2,
   "metadata": {},
   "outputs": [],
   "source": [
    "import matplotlib.pyplot as plt\n",
    "import pandas as pd\n",
    "\n",
    "plt.style.use('seaborn-whitegrid')\n",
    "# Set Matplotlib defaults\n",
    "plt.rc('figure', autolayout=True)\n",
    "plt.rc('axes', labelweight='bold', labelsize='large',\n",
    "       titleweight='bold', titlesize=18, titlepad=10)\n",
    "plt.rc('animation', html='html5')"
   ]
  },
  {
   "cell_type": "code",
   "execution_count": 3,
   "metadata": {},
   "outputs": [
    {
     "ename": "FileNotFoundError",
     "evalue": "[Errno 2] No such file or directory: './data_othello.csv'",
     "output_type": "error",
     "traceback": [
      "\u001b[0;31m---------------------------------------------------------------------------\u001b[0m",
      "\u001b[0;31mFileNotFoundError\u001b[0m                         Traceback (most recent call last)",
      "\u001b[1;32m/home/hippo/Documents/Othello_2022_Auguste/Othello_2022/othello/analyse.ipynb Cellule 3\u001b[0m in \u001b[0;36m<cell line: 1>\u001b[0;34m()\u001b[0m\n\u001b[0;32m----> <a href='vscode-notebook-cell:/home/hippo/Documents/Othello_2022_Auguste/Othello_2022/othello/analyse.ipynb#W2sZmlsZQ%3D%3D?line=0'>1</a>\u001b[0m data \u001b[39m=\u001b[39m pd\u001b[39m.\u001b[39;49mread_csv(\u001b[39m'\u001b[39;49m\u001b[39m./data_othello.csv\u001b[39;49m\u001b[39m'\u001b[39;49m)\n\u001b[1;32m      <a href='vscode-notebook-cell:/home/hippo/Documents/Othello_2022_Auguste/Othello_2022/othello/analyse.ipynb#W2sZmlsZQ%3D%3D?line=1'>2</a>\u001b[0m display(data\u001b[39m.\u001b[39mhead())\n\u001b[1;32m      <a href='vscode-notebook-cell:/home/hippo/Documents/Othello_2022_Auguste/Othello_2022/othello/analyse.ipynb#W2sZmlsZQ%3D%3D?line=2'>3</a>\u001b[0m input_shape \u001b[39m=\u001b[39m data\u001b[39m.\u001b[39mshape\n",
      "File \u001b[0;32m~/anaconda3/lib/python3.9/site-packages/pandas/util/_decorators.py:311\u001b[0m, in \u001b[0;36mdeprecate_nonkeyword_arguments.<locals>.decorate.<locals>.wrapper\u001b[0;34m(*args, **kwargs)\u001b[0m\n\u001b[1;32m    305\u001b[0m \u001b[39mif\u001b[39;00m \u001b[39mlen\u001b[39m(args) \u001b[39m>\u001b[39m num_allow_args:\n\u001b[1;32m    306\u001b[0m     warnings\u001b[39m.\u001b[39mwarn(\n\u001b[1;32m    307\u001b[0m         msg\u001b[39m.\u001b[39mformat(arguments\u001b[39m=\u001b[39marguments),\n\u001b[1;32m    308\u001b[0m         \u001b[39mFutureWarning\u001b[39;00m,\n\u001b[1;32m    309\u001b[0m         stacklevel\u001b[39m=\u001b[39mstacklevel,\n\u001b[1;32m    310\u001b[0m     )\n\u001b[0;32m--> 311\u001b[0m \u001b[39mreturn\u001b[39;00m func(\u001b[39m*\u001b[39;49margs, \u001b[39m*\u001b[39;49m\u001b[39m*\u001b[39;49mkwargs)\n",
      "File \u001b[0;32m~/anaconda3/lib/python3.9/site-packages/pandas/io/parsers/readers.py:680\u001b[0m, in \u001b[0;36mread_csv\u001b[0;34m(filepath_or_buffer, sep, delimiter, header, names, index_col, usecols, squeeze, prefix, mangle_dupe_cols, dtype, engine, converters, true_values, false_values, skipinitialspace, skiprows, skipfooter, nrows, na_values, keep_default_na, na_filter, verbose, skip_blank_lines, parse_dates, infer_datetime_format, keep_date_col, date_parser, dayfirst, cache_dates, iterator, chunksize, compression, thousands, decimal, lineterminator, quotechar, quoting, doublequote, escapechar, comment, encoding, encoding_errors, dialect, error_bad_lines, warn_bad_lines, on_bad_lines, delim_whitespace, low_memory, memory_map, float_precision, storage_options)\u001b[0m\n\u001b[1;32m    665\u001b[0m kwds_defaults \u001b[39m=\u001b[39m _refine_defaults_read(\n\u001b[1;32m    666\u001b[0m     dialect,\n\u001b[1;32m    667\u001b[0m     delimiter,\n\u001b[0;32m   (...)\u001b[0m\n\u001b[1;32m    676\u001b[0m     defaults\u001b[39m=\u001b[39m{\u001b[39m\"\u001b[39m\u001b[39mdelimiter\u001b[39m\u001b[39m\"\u001b[39m: \u001b[39m\"\u001b[39m\u001b[39m,\u001b[39m\u001b[39m\"\u001b[39m},\n\u001b[1;32m    677\u001b[0m )\n\u001b[1;32m    678\u001b[0m kwds\u001b[39m.\u001b[39mupdate(kwds_defaults)\n\u001b[0;32m--> 680\u001b[0m \u001b[39mreturn\u001b[39;00m _read(filepath_or_buffer, kwds)\n",
      "File \u001b[0;32m~/anaconda3/lib/python3.9/site-packages/pandas/io/parsers/readers.py:575\u001b[0m, in \u001b[0;36m_read\u001b[0;34m(filepath_or_buffer, kwds)\u001b[0m\n\u001b[1;32m    572\u001b[0m _validate_names(kwds\u001b[39m.\u001b[39mget(\u001b[39m\"\u001b[39m\u001b[39mnames\u001b[39m\u001b[39m\"\u001b[39m, \u001b[39mNone\u001b[39;00m))\n\u001b[1;32m    574\u001b[0m \u001b[39m# Create the parser.\u001b[39;00m\n\u001b[0;32m--> 575\u001b[0m parser \u001b[39m=\u001b[39m TextFileReader(filepath_or_buffer, \u001b[39m*\u001b[39;49m\u001b[39m*\u001b[39;49mkwds)\n\u001b[1;32m    577\u001b[0m \u001b[39mif\u001b[39;00m chunksize \u001b[39mor\u001b[39;00m iterator:\n\u001b[1;32m    578\u001b[0m     \u001b[39mreturn\u001b[39;00m parser\n",
      "File \u001b[0;32m~/anaconda3/lib/python3.9/site-packages/pandas/io/parsers/readers.py:933\u001b[0m, in \u001b[0;36mTextFileReader.__init__\u001b[0;34m(self, f, engine, **kwds)\u001b[0m\n\u001b[1;32m    930\u001b[0m     \u001b[39mself\u001b[39m\u001b[39m.\u001b[39moptions[\u001b[39m\"\u001b[39m\u001b[39mhas_index_names\u001b[39m\u001b[39m\"\u001b[39m] \u001b[39m=\u001b[39m kwds[\u001b[39m\"\u001b[39m\u001b[39mhas_index_names\u001b[39m\u001b[39m\"\u001b[39m]\n\u001b[1;32m    932\u001b[0m \u001b[39mself\u001b[39m\u001b[39m.\u001b[39mhandles: IOHandles \u001b[39m|\u001b[39m \u001b[39mNone\u001b[39;00m \u001b[39m=\u001b[39m \u001b[39mNone\u001b[39;00m\n\u001b[0;32m--> 933\u001b[0m \u001b[39mself\u001b[39m\u001b[39m.\u001b[39m_engine \u001b[39m=\u001b[39m \u001b[39mself\u001b[39;49m\u001b[39m.\u001b[39;49m_make_engine(f, \u001b[39mself\u001b[39;49m\u001b[39m.\u001b[39;49mengine)\n",
      "File \u001b[0;32m~/anaconda3/lib/python3.9/site-packages/pandas/io/parsers/readers.py:1217\u001b[0m, in \u001b[0;36mTextFileReader._make_engine\u001b[0;34m(self, f, engine)\u001b[0m\n\u001b[1;32m   1213\u001b[0m     mode \u001b[39m=\u001b[39m \u001b[39m\"\u001b[39m\u001b[39mrb\u001b[39m\u001b[39m\"\u001b[39m\n\u001b[1;32m   1214\u001b[0m \u001b[39m# error: No overload variant of \"get_handle\" matches argument types\u001b[39;00m\n\u001b[1;32m   1215\u001b[0m \u001b[39m# \"Union[str, PathLike[str], ReadCsvBuffer[bytes], ReadCsvBuffer[str]]\"\u001b[39;00m\n\u001b[1;32m   1216\u001b[0m \u001b[39m# , \"str\", \"bool\", \"Any\", \"Any\", \"Any\", \"Any\", \"Any\"\u001b[39;00m\n\u001b[0;32m-> 1217\u001b[0m \u001b[39mself\u001b[39m\u001b[39m.\u001b[39mhandles \u001b[39m=\u001b[39m get_handle(  \u001b[39m# type: ignore[call-overload]\u001b[39;49;00m\n\u001b[1;32m   1218\u001b[0m     f,\n\u001b[1;32m   1219\u001b[0m     mode,\n\u001b[1;32m   1220\u001b[0m     encoding\u001b[39m=\u001b[39;49m\u001b[39mself\u001b[39;49m\u001b[39m.\u001b[39;49moptions\u001b[39m.\u001b[39;49mget(\u001b[39m\"\u001b[39;49m\u001b[39mencoding\u001b[39;49m\u001b[39m\"\u001b[39;49m, \u001b[39mNone\u001b[39;49;00m),\n\u001b[1;32m   1221\u001b[0m     compression\u001b[39m=\u001b[39;49m\u001b[39mself\u001b[39;49m\u001b[39m.\u001b[39;49moptions\u001b[39m.\u001b[39;49mget(\u001b[39m\"\u001b[39;49m\u001b[39mcompression\u001b[39;49m\u001b[39m\"\u001b[39;49m, \u001b[39mNone\u001b[39;49;00m),\n\u001b[1;32m   1222\u001b[0m     memory_map\u001b[39m=\u001b[39;49m\u001b[39mself\u001b[39;49m\u001b[39m.\u001b[39;49moptions\u001b[39m.\u001b[39;49mget(\u001b[39m\"\u001b[39;49m\u001b[39mmemory_map\u001b[39;49m\u001b[39m\"\u001b[39;49m, \u001b[39mFalse\u001b[39;49;00m),\n\u001b[1;32m   1223\u001b[0m     is_text\u001b[39m=\u001b[39;49mis_text,\n\u001b[1;32m   1224\u001b[0m     errors\u001b[39m=\u001b[39;49m\u001b[39mself\u001b[39;49m\u001b[39m.\u001b[39;49moptions\u001b[39m.\u001b[39;49mget(\u001b[39m\"\u001b[39;49m\u001b[39mencoding_errors\u001b[39;49m\u001b[39m\"\u001b[39;49m, \u001b[39m\"\u001b[39;49m\u001b[39mstrict\u001b[39;49m\u001b[39m\"\u001b[39;49m),\n\u001b[1;32m   1225\u001b[0m     storage_options\u001b[39m=\u001b[39;49m\u001b[39mself\u001b[39;49m\u001b[39m.\u001b[39;49moptions\u001b[39m.\u001b[39;49mget(\u001b[39m\"\u001b[39;49m\u001b[39mstorage_options\u001b[39;49m\u001b[39m\"\u001b[39;49m, \u001b[39mNone\u001b[39;49;00m),\n\u001b[1;32m   1226\u001b[0m )\n\u001b[1;32m   1227\u001b[0m \u001b[39massert\u001b[39;00m \u001b[39mself\u001b[39m\u001b[39m.\u001b[39mhandles \u001b[39mis\u001b[39;00m \u001b[39mnot\u001b[39;00m \u001b[39mNone\u001b[39;00m\n\u001b[1;32m   1228\u001b[0m f \u001b[39m=\u001b[39m \u001b[39mself\u001b[39m\u001b[39m.\u001b[39mhandles\u001b[39m.\u001b[39mhandle\n",
      "File \u001b[0;32m~/anaconda3/lib/python3.9/site-packages/pandas/io/common.py:789\u001b[0m, in \u001b[0;36mget_handle\u001b[0;34m(path_or_buf, mode, encoding, compression, memory_map, is_text, errors, storage_options)\u001b[0m\n\u001b[1;32m    784\u001b[0m \u001b[39melif\u001b[39;00m \u001b[39misinstance\u001b[39m(handle, \u001b[39mstr\u001b[39m):\n\u001b[1;32m    785\u001b[0m     \u001b[39m# Check whether the filename is to be opened in binary mode.\u001b[39;00m\n\u001b[1;32m    786\u001b[0m     \u001b[39m# Binary mode does not support 'encoding' and 'newline'.\u001b[39;00m\n\u001b[1;32m    787\u001b[0m     \u001b[39mif\u001b[39;00m ioargs\u001b[39m.\u001b[39mencoding \u001b[39mand\u001b[39;00m \u001b[39m\"\u001b[39m\u001b[39mb\u001b[39m\u001b[39m\"\u001b[39m \u001b[39mnot\u001b[39;00m \u001b[39min\u001b[39;00m ioargs\u001b[39m.\u001b[39mmode:\n\u001b[1;32m    788\u001b[0m         \u001b[39m# Encoding\u001b[39;00m\n\u001b[0;32m--> 789\u001b[0m         handle \u001b[39m=\u001b[39m \u001b[39mopen\u001b[39;49m(\n\u001b[1;32m    790\u001b[0m             handle,\n\u001b[1;32m    791\u001b[0m             ioargs\u001b[39m.\u001b[39;49mmode,\n\u001b[1;32m    792\u001b[0m             encoding\u001b[39m=\u001b[39;49mioargs\u001b[39m.\u001b[39;49mencoding,\n\u001b[1;32m    793\u001b[0m             errors\u001b[39m=\u001b[39;49merrors,\n\u001b[1;32m    794\u001b[0m             newline\u001b[39m=\u001b[39;49m\u001b[39m\"\u001b[39;49m\u001b[39m\"\u001b[39;49m,\n\u001b[1;32m    795\u001b[0m         )\n\u001b[1;32m    796\u001b[0m     \u001b[39melse\u001b[39;00m:\n\u001b[1;32m    797\u001b[0m         \u001b[39m# Binary mode\u001b[39;00m\n\u001b[1;32m    798\u001b[0m         handle \u001b[39m=\u001b[39m \u001b[39mopen\u001b[39m(handle, ioargs\u001b[39m.\u001b[39mmode)\n",
      "\u001b[0;31mFileNotFoundError\u001b[0m: [Errno 2] No such file or directory: './data_othello.csv'"
     ]
    }
   ],
   "source": [
    "data = pd.read_csv('../data_othello.csv')\n",
    "display(data.head())\n",
    "input_shape = data.shape\n",
    "print(\"Input shape : {}\".format(input_shape))"
   ]
  },
  {
   "cell_type": "markdown",
   "metadata": {},
   "source": [
    "### Dataset Transformation\n",
    "\n",
    "For a basic analysis we will drop the list of the moves played during the game as we don't need it yet. We will also focus our analysis on \"random player\" against all other player algorithms. This will be a good start to compare \"general\" performance."
   ]
  },
  {
   "cell_type": "code",
   "execution_count": null,
   "metadata": {},
   "outputs": [
    {
     "data": {
      "text/html": [
       "<div>\n",
       "<style scoped>\n",
       "    .dataframe tbody tr th:only-of-type {\n",
       "        vertical-align: middle;\n",
       "    }\n",
       "\n",
       "    .dataframe tbody tr th {\n",
       "        vertical-align: top;\n",
       "    }\n",
       "\n",
       "    .dataframe thead th {\n",
       "        text-align: right;\n",
       "    }\n",
       "</style>\n",
       "<table border=\"1\" class=\"dataframe\">\n",
       "  <thead>\n",
       "    <tr style=\"text-align: right;\">\n",
       "      <th></th>\n",
       "      <th>Score</th>\n",
       "      <th>win</th>\n",
       "      <th>Player</th>\n",
       "      <th>UCB</th>\n",
       "      <th>it</th>\n",
       "      <th>th</th>\n",
       "      <th>depth</th>\n",
       "    </tr>\n",
       "  </thead>\n",
       "  <tbody>\n",
       "    <tr>\n",
       "      <th>0</th>\n",
       "      <td>-10</td>\n",
       "      <td>-1</td>\n",
       "      <td>Random</td>\n",
       "      <td>0.14</td>\n",
       "      <td>20.0</td>\n",
       "      <td>10.0</td>\n",
       "      <td>3.0</td>\n",
       "    </tr>\n",
       "    <tr>\n",
       "      <th>1</th>\n",
       "      <td>-26</td>\n",
       "      <td>-1</td>\n",
       "      <td>Random</td>\n",
       "      <td>0.14</td>\n",
       "      <td>20.0</td>\n",
       "      <td>10.0</td>\n",
       "      <td>3.0</td>\n",
       "    </tr>\n",
       "    <tr>\n",
       "      <th>2</th>\n",
       "      <td>-10</td>\n",
       "      <td>-1</td>\n",
       "      <td>Random</td>\n",
       "      <td>0.14</td>\n",
       "      <td>20.0</td>\n",
       "      <td>10.0</td>\n",
       "      <td>3.0</td>\n",
       "    </tr>\n",
       "    <tr>\n",
       "      <th>3</th>\n",
       "      <td>22</td>\n",
       "      <td>1</td>\n",
       "      <td>Random</td>\n",
       "      <td>0.14</td>\n",
       "      <td>20.0</td>\n",
       "      <td>10.0</td>\n",
       "      <td>3.0</td>\n",
       "    </tr>\n",
       "    <tr>\n",
       "      <th>4</th>\n",
       "      <td>-34</td>\n",
       "      <td>-1</td>\n",
       "      <td>Random</td>\n",
       "      <td>0.14</td>\n",
       "      <td>20.0</td>\n",
       "      <td>10.0</td>\n",
       "      <td>3.0</td>\n",
       "    </tr>\n",
       "  </tbody>\n",
       "</table>\n",
       "</div>"
      ],
      "text/plain": [
       "   Score  win  Player   UCB    it    th depth\n",
       "0    -10   -1  Random  0.14  20.0  10.0   3.0\n",
       "1    -26   -1  Random  0.14  20.0  10.0   3.0\n",
       "2    -10   -1  Random  0.14  20.0  10.0   3.0\n",
       "3     22    1  Random  0.14  20.0  10.0   3.0\n",
       "4    -34   -1  Random  0.14  20.0  10.0   3.0"
      ]
     },
     "metadata": {},
     "output_type": "display_data"
    },
    {
     "name": "stdout",
     "output_type": "stream",
     "text": [
      "Input shape : (10, 7)\n"
     ]
    }
   ],
   "source": [
    "df = data.drop(['Liste Moves'], axis = 1) # We will not use it for the analysis\n",
    "df = df.astype({\"Player 1\": 'category', \"PLayer 2\" : 'category'})\n",
    "\n",
    "def get_win(row) -> int :\n",
    "    \"\"\"\n",
    "    Return 1 if the IA player won else -1 (0 = equality)\n",
    "    \"\"\"\n",
    "    if (row['Player 1'] != 'Random' and row['Score'] > 0) or (row['PLayer 2'] != 'Random' and row['Score'] < 0) :\n",
    "        return 1\n",
    "    elif row['Score'] == 0 :\n",
    "        return 0\n",
    "    elif (row['Player 1'] == 'Random' and row['PLayer 2'] == 'Random' and row['Score'] > 0):\n",
    "        return 1 # Random vs Random we will get the player 1 as a reference\n",
    "    else :\n",
    "        return -1 # for the moment we are just looking at win\n",
    "\n",
    "df['win'] = df.apply(lambda row: get_win(row), axis=1)\n",
    "\n",
    "def merge_players(row): \n",
    "    \"\"\"\n",
    "    Merge player 1 and player 2 to remove the 'useless' player (random)\n",
    "    Merge also the parameters\n",
    "    \"\"\"\n",
    "    if row['Player 1'] != 'Random' : \n",
    "        return str(row['Player 1']) + \";\" + str(row['UCB 1']) + \";\" + str(row['it 1']) + \";\" + str(row['th 1']) + \";\" + str(row['depth 1'])\n",
    "    else :\n",
    "        return str(row['PLayer 2']) + \";\" + str(row['UCB2']) + \";\" + str(row['it 2'])+ \";\" + str(row['th 2'])+ \";\" + str(row['depth 2'])\n",
    "    \n",
    "df['Player'] = df.apply(lambda row: merge_players(row), axis = 1)\n",
    "df[['Player', 'UCB', 'it', 'th', 'depth']] = df.Player.str.split(\";\",expand=True)\n",
    "df2 = df.drop(df.iloc[:, 0:2].columns, axis=1) # Remove previous columns\n",
    "df2 = df2.drop(df2.iloc[:, 1:9].columns, axis=1) # Remove previous columns\n",
    "display(df2.head()) # UCB, it, th, depth are useless for random player\n",
    "print(\"Input shape : {}\".format(df2.shape))\n",
    "        "
   ]
  },
  {
   "cell_type": "markdown",
   "metadata": {},
   "source": [
    "### Player Random\n",
    "\n",
    "We quickly check that our \"random player\" is really random. To do this we can compare the winning results. We expect to have a win score of 50%, according to our data set where a win is +1 and a loose -1, we should find something near 0."
   ]
  },
  {
   "cell_type": "code",
   "execution_count": null,
   "metadata": {},
   "outputs": [
    {
     "name": "stdout",
     "output_type": "stream",
     "text": [
      "Input shape : (10, 7)\n",
      "-0.4\n"
     ]
    }
   ],
   "source": [
    "df_random = df2.loc[df2['Player'] == 'Random']\n",
    "df_random_win = df_random['win']\n",
    "print(\"Input shape : {}\".format(df_random.shape))\n",
    "print(df_random_win.mean())"
   ]
  },
  {
   "cell_type": "markdown",
   "metadata": {},
   "source": [
    "In our dataset, over 900 games we get an average of -0.388. So close to 0 as we expected. We can also check the distribution of the score. If the game is correctly programmed, the score data should follow a normal distribution.\n",
    "\n",
    "<img src=\"./images/Random_Player_Score_Distribution.png\">\n"
   ]
  },
  {
   "cell_type": "code",
   "execution_count": null,
   "metadata": {},
   "outputs": [],
   "source": [
    "from scipy.stats import shapiro\n",
    "import seaborn as sns\n",
    "\n",
    "df_random_score = df_random['Score']\n",
    "x1, pvalue1 = shapiro(df_random_score)\n",
    "# print(pvalue1)\n",
    "# g = sns.displot(df_random_score, kde=True)\n",
    "# g.fig.suptitle('Score Distribution for Random Player')\n",
    "# g.savefig('./images/Random_Player_Score_Distribution.png')"
   ]
  },
  {
   "cell_type": "markdown",
   "metadata": {},
   "source": [
    "## MinMax :\n",
    "\n",
    "The data were generated from depth 1 to depth 3 (beyond this depth the calculation time becomes too long)."
   ]
  },
  {
   "cell_type": "code",
   "execution_count": null,
   "metadata": {},
   "outputs": [],
   "source": [
    "df_minmax = df2.loc[df2['Player'] == 'MinMax']\n",
    "df_minmax = df_minmax.drop(df_minmax.iloc[:, 2:6].columns, axis=1)\n",
    "df_minmax = df_minmax.astype({\"depth\": 'category'})\n",
    "\n",
    "# print(df_minmax.shape) # result (1460, 7)\n",
    "# df_minmax_1 = df_minmax.loc[df_minmax['depth'] == '1.0']\n",
    "# df_minmax_2 = df_minmax.loc[df_minmax['depth'] == '2.0']\n",
    "# df_minmax_3 = df_minmax.loc[df_minmax['depth'] == '3.0']\n",
    "# display(df_minmax.groupby('depth', as_index=False)['win'].count())\n",
    "# p = sns.barplot('depth', 'win',data =df_minmax)\n",
    "# p.set_title('Win mean for each Depth of MinMax')\n",
    "# fig = p.get_figure()\n",
    "# fig.savefig('./images/MinMax_Win_Mean.png')"
   ]
  },
  {
   "cell_type": "markdown",
   "metadata": {},
   "source": [
    "<img src=\"./images/MinMax_Win_Mean.png\">\n",
    "\n",
    "As we can see on the barplot, our MinMax is really effective against player Random with a win ratio of 0.9 (full win will be equal to 1).\n",
    "\n",
    "However, there is no significant difference between the different depths (1, 2, 3) in the results. Several hypotheses can be put forward with regard to our results:\n",
    "\n",
    "* There is an error in our algortihm\n",
    "* We are not deep enough to observe a difference\n",
    "* Our heuristic is relatively powerful against random\n",
    "\n"
   ]
  },
  {
   "cell_type": "markdown",
   "metadata": {},
   "source": [
    "## Alpha-Beta :\n",
    "\n",
    "The data were generated from depth 1 to depth 6 (beyond this depth the calculation time becomes too long).\n",
    "\n",
    "### FailSoft alpha-beta:\n",
    "\n",
    "improvement of the alpha-beta algorithm proposed by John Philip Fishburn .\n",
    "\n",
    "#### Concept\n",
    "Implementations of alpha–beta pruning can often be delineated by whether they are \"fail-soft,\" or \"fail-hard\". With fail-soft alpha–beta, the alphabeta function may return values (v) that exceed (v < α or v > β) the α and β bounds set by its function call arguments. In comparison, fail-hard alpha–beta limits its function return value into the inclusive range of α and β. The main difference between fail-soft and fail-hard implementations is whether α and β are updated before or after the cutoff check. If they are updated before the check, then they can exceed initial bounds and the algorithm is fail-soft."
   ]
  },
  {
   "cell_type": "code",
   "execution_count": null,
   "metadata": {},
   "outputs": [
    {
     "name": "stdout",
     "output_type": "stream",
     "text": [
      "(0, 3)\n"
     ]
    }
   ],
   "source": [
    "df_failsoft = df2.loc[df2['Player'] == 'Failsoft']\n",
    "df_failsoft = df_failsoft.drop(df_failsoft.iloc[:, 2:6].columns, axis=1)\n",
    "df_failsoft = df_failsoft.astype({\"depth\": 'category'})\n",
    "\n",
    "print(df_failsoft.shape) # result (1537, 3)\n",
    "\n",
    "# display(df_failsoft.groupby('depth', as_index=False)['win'].count())\n",
    "# p = sns.barplot('depth', 'win', data =df_failsoft)\n",
    "# p.set_title('Win mean for each depth of FailSoft')\n",
    "# fig = p.get_figure()\n",
    "# fig.savefig('./images/FailSoft_Win_Mean.png')"
   ]
  },
  {
   "cell_type": "markdown",
   "metadata": {},
   "source": [
    "#### Result :\n",
    "\n",
    "<img src=\"./images/FailSoft_Win_Mean.png\">\n",
    "\n",
    "The results seem consistent. As the depth increases, the win rate increases. Moreover, we are able to descend to a deeper level in a shorter time than the minmax agorithm."
   ]
  },
  {
   "cell_type": "markdown",
   "metadata": {},
   "source": [
    "## MCTS:\n",
    "\n",
    "The data were generated by varying the following parameters:\n",
    "* UBC : [0, 0.1, 0.1416, 0.2, 0.5, 1]\n",
    "* Iteration : [10, 20, 30, 70, 100]\n",
    "* Depth : [2, 5, 10, 30]"
   ]
  },
  {
   "cell_type": "code",
   "execution_count": null,
   "metadata": {},
   "outputs": [
    {
     "name": "stdout",
     "output_type": "stream",
     "text": [
      "(0, 6)\n"
     ]
    }
   ],
   "source": [
    "df_MCTS = df2.loc[df2['Player'] == 'MCTS']\n",
    "df_MCTS = df_MCTS.drop(df_MCTS.iloc[:, 6:].columns, axis=1)\n",
    "print(df_MCTS.shape) # result (5444, 6)\n",
    "\n",
    "# TH 2\n",
    "gf = df_MCTS.loc[df_MCTS['th'] == '2.0']\n",
    "gf = gf.groupby(['it','UCB','th'], as_index=False)['win'].mean()\n",
    "gf = gf.astype({'it':'float'})\n",
    "gf = gf.sort_values(by=['it'])\n",
    "# display(gf.groupby(['it','UCB','th'], as_index=False)['win'].mean())\n",
    "x1 = gf.loc[gf['UCB'] == '0.0']\n",
    "x2 = gf.loc[gf['UCB'] == '0.1']\n",
    "x3 = gf.loc[gf['UCB'] == '0.2']\n",
    "x4 = gf.loc[gf['UCB'] == '0.5']\n",
    "x5 = gf.loc[gf['UCB'] == '1.0']\n",
    "\n",
    "# plt.plot(x1['it'], x1['win'], label = '0')\n",
    "# plt.plot(x2['it'], x2['win'], label = '0.1')\n",
    "# plt.plot(x3['it'], x3['win'], label = '0.2')\n",
    "# plt.plot(x4['it'], x4['win'], label = '0.5')\n",
    "# plt.plot(x5['it'], x5['win'], label = '1.0')\n",
    "# plt.title('Win rate by iteration (Th = 2)')\n",
    "# plt.xlabel('Number of iteration')\n",
    "# plt.ylabel('win rate')\n",
    "# plt.legend(title='UCB')\n",
    "# plt.savefig('./images/MCTS_Win_by_it.png')\n",
    "# plt.show()"
   ]
  },
  {
   "cell_type": "markdown",
   "metadata": {},
   "source": [
    "<img src=\"./images/MCTS_Win_by_it.png\">\n",
    "\n",
    "threshold fixed at 2\n",
    "\n",
    "\n",
    "#### ITERATION\n",
    "\n",
    "First, let's focus on the influence of the iteration on the win rate. It seems obvious that as the number of iterations increases, the win rate increases (with an anomaly on our graph for the UCB set at 0.1). This is logical, the more we increase the number of iterations the more our graph is correctly informed.\n",
    "\n",
    "#### UCB :\n",
    "\n",
    "From our graph we can see that the UCB will also influence our win rate. We notice two phases [0, 0.1] and [0.5, 1]. On the first phase the UCB allows to increase the win rate faster and on the second one, a too strong UCB cause an early stagnation of  win rate. The best UCB seems to be close to 0.2. We can refine our search if we have more time.\n",
    "\n",
    "The results are consistent with the theory we have seen so far. The most commonly used UCB is the square root of 2.\n",
    "For the rest of the analysis we generated the data from a UCB value of 0.14"
   ]
  },
  {
   "cell_type": "code",
   "execution_count": 1,
   "metadata": {},
   "outputs": [
    {
     "ename": "NameError",
     "evalue": "name 'df_MCTS' is not defined",
     "output_type": "error",
     "traceback": [
      "\u001b[0;31m---------------------------------------------------------------------------\u001b[0m",
      "\u001b[0;31mNameError\u001b[0m                                 Traceback (most recent call last)",
      "\u001b[1;32m/home/hippo/Documents/Othello_2022_Auguste/Othello_2022/othello/analyse.ipynb Cellule 19\u001b[0m in \u001b[0;36m<cell line: 2>\u001b[0;34m()\u001b[0m\n\u001b[1;32m      <a href='vscode-notebook-cell:/home/hippo/Documents/Othello_2022_Auguste/Othello_2022/othello/analyse.ipynb#X24sZmlsZQ%3D%3D?line=0'>1</a>\u001b[0m \u001b[39m# UCB 0.14\u001b[39;00m\n\u001b[0;32m----> <a href='vscode-notebook-cell:/home/hippo/Documents/Othello_2022_Auguste/Othello_2022/othello/analyse.ipynb#X24sZmlsZQ%3D%3D?line=1'>2</a>\u001b[0m gt \u001b[39m=\u001b[39m df_MCTS\u001b[39m.\u001b[39mloc[df_MCTS[\u001b[39m'\u001b[39m\u001b[39mUCB\u001b[39m\u001b[39m'\u001b[39m] \u001b[39m==\u001b[39m \u001b[39m'\u001b[39m\u001b[39m0.14\u001b[39m\u001b[39m'\u001b[39m]\n\u001b[1;32m      <a href='vscode-notebook-cell:/home/hippo/Documents/Othello_2022_Auguste/Othello_2022/othello/analyse.ipynb#X24sZmlsZQ%3D%3D?line=2'>3</a>\u001b[0m gt \u001b[39m=\u001b[39m gt\u001b[39m.\u001b[39mgroupby([\u001b[39m'\u001b[39m\u001b[39mit\u001b[39m\u001b[39m'\u001b[39m,\u001b[39m'\u001b[39m\u001b[39mUCB\u001b[39m\u001b[39m'\u001b[39m,\u001b[39m'\u001b[39m\u001b[39mth\u001b[39m\u001b[39m'\u001b[39m], as_index\u001b[39m=\u001b[39m\u001b[39mFalse\u001b[39;00m)[\u001b[39m'\u001b[39m\u001b[39mwin\u001b[39m\u001b[39m'\u001b[39m]\u001b[39m.\u001b[39mmean()\n\u001b[1;32m      <a href='vscode-notebook-cell:/home/hippo/Documents/Othello_2022_Auguste/Othello_2022/othello/analyse.ipynb#X24sZmlsZQ%3D%3D?line=3'>4</a>\u001b[0m gt \u001b[39m=\u001b[39m gt\u001b[39m.\u001b[39mastype({\u001b[39m'\u001b[39m\u001b[39mit\u001b[39m\u001b[39m'\u001b[39m:\u001b[39m'\u001b[39m\u001b[39mfloat\u001b[39m\u001b[39m'\u001b[39m})\n",
      "\u001b[0;31mNameError\u001b[0m: name 'df_MCTS' is not defined"
     ]
    }
   ],
   "source": [
    "# UCB 0.14\n",
    "gt = df_MCTS.loc[df_MCTS['UCB'] == '0.14']\n",
    "gt = gt.groupby(['it','UCB','th'], as_index=False)['win'].mean()\n",
    "gt = gt.astype({'it':'float'})\n",
    "gt = gt.sort_values(by=['it'])\n",
    "display(gt.groupby(['th','it','UCB'], as_index=False)['win'].mean())\n",
    "x1 = gt.loc[gt['th'] == '10.0']\n",
    "# x2 = gt.loc[gt['th'] == '0.1']\n",
    "# x3 = gt.loc[gt['th'] == '0.2']\n",
    "# x4 = gt.loc[gt['th'] == '0.5']\n",
    "# x5 = gt.loc[gt['th'] == '1.0']\n",
    "\n",
    "plt.plot(x1['it'], x1['win'], label = '10')\n",
    "# plt.plot(x2['it'], x2['win'], label = '0.1')\n",
    "# plt.plot(x3['it'], x3['win'], label = '0.2')\n",
    "# plt.plot(x4['it'], x4['win'], label = '0.5')\n",
    "# plt.plot(x5['it'], x5['win'], label = '1.0')\n",
    "plt.title('Win rate by iteration (UCB = 0.14)')\n",
    "plt.xlabel('Number of iteration')\n",
    "plt.ylabel('win rate')\n",
    "plt.legend(title='th')\n",
    "# plt.savefig('./images/MCTS_Win_by_it.png')\n",
    "# plt.show()"
   ]
  }
 ],
 "metadata": {
  "kernelspec": {
   "display_name": "Python 3.9.12 ('base')",
   "language": "python",
   "name": "python3"
  },
  "language_info": {
   "codemirror_mode": {
    "name": "ipython",
    "version": 3
   },
   "file_extension": ".py",
   "mimetype": "text/x-python",
   "name": "python",
   "nbconvert_exporter": "python",
   "pygments_lexer": "ipython3",
   "version": "3.9.12"
  },
  "orig_nbformat": 4,
  "vscode": {
   "interpreter": {
    "hash": "baacd7ded0742aa8408bda3ed6ced71320ba4869ece4e05e453d0cf31ed1376f"
   }
  }
 },
 "nbformat": 4,
 "nbformat_minor": 2
}
